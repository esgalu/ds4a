{
 "cells": [
  {
   "cell_type": "code",
   "execution_count": 1,
   "metadata": {},
   "outputs": [
    {
     "name": "stdout",
     "output_type": "stream",
     "text": [
      "C:\\Users\\admin\\Documents\\ds4a\n"
     ]
    }
   ],
   "source": [
    "%load_ext autoreload\n",
    "%autoreload 2\n",
    "%cd .."
   ]
  },
  {
   "cell_type": "markdown",
   "metadata": {},
   "source": [
    "## Principal Libreries"
   ]
  },
  {
   "cell_type": "code",
   "execution_count": 2,
   "metadata": {},
   "outputs": [],
   "source": [
    "import pandas as pd"
   ]
  },
  {
   "cell_type": "code",
   "execution_count": 3,
   "metadata": {},
   "outputs": [],
   "source": [
    "from tools.generate_dic_data import apply_dic_data"
   ]
  },
  {
   "cell_type": "code",
   "execution_count": 4,
   "metadata": {},
   "outputs": [],
   "source": [
    "from core.metadata.directory import PathDataRaw\n",
    "from core.metadata.directory import PathOutput"
   ]
  },
  {
   "cell_type": "code",
   "execution_count": 5,
   "metadata": {},
   "outputs": [],
   "source": [
    "from core.data_preparation.data_preparation import apply_data_preparation"
   ]
  },
  {
   "cell_type": "markdown",
   "metadata": {},
   "source": [
    "## Read Data Dict"
   ]
  },
  {
   "cell_type": "markdown",
   "metadata": {},
   "source": [
    "Check the function apply_dic_data in the folder core - data_preparation - data_preparation"
   ]
  },
  {
   "cell_type": "code",
   "execution_count": 6,
   "metadata": {},
   "outputs": [],
   "source": [
    "df = apply_dic_data(PathDataRaw.data)"
   ]
  },
  {
   "cell_type": "code",
   "execution_count": 7,
   "metadata": {},
   "outputs": [],
   "source": [
    "df['EARNINGS'] = df['EARNINGS'][['estate', 'county', 'year', 'total_med',\n",
    "       'total_agri_fish_mine', 'agri_fish_hunt', 'construction',\n",
    "       'manufacturing', 'wholesale_trade', 'retail_trade',\n",
    "       'transport_warehouse_utilities', 'transport_warehouse',\n",
    "       'fin_ins_realest', 'fin_ins', 'total_prof_sci_mgmt_admin',\n",
    "       'prof_sci_tech', 'admin_sup', 'total_edu_health_social', 'edu_serv',\n",
    "       'health_social', 'total_arts_ent_acc_food', 'acc_food_serv',\n",
    "       'other_ser', 'pub_admin']]"
   ]
  },
  {
   "cell_type": "markdown",
   "metadata": {},
   "source": [
    "## Cleanning df earnings"
   ]
  },
  {
   "cell_type": "code",
   "execution_count": 8,
   "metadata": {},
   "outputs": [],
   "source": [
    "df['EARNINGS'].rename(columns={'estate':'state'}, inplace=True)\n",
    "\n",
    "for col in ['state', 'county']:\n",
    "    df['EARNINGS'][col] = df['EARNINGS'][col].str.upper()\n",
    "    \n",
    "df['EARNINGS']['county'] = df['EARNINGS'].county.str.split(',', expand=True)[0]\n",
    "df['EARNINGS']['county'] = df['EARNINGS'].county.str.replace('COUNTY', '')\n",
    "df['EARNINGS']['county'] = df['EARNINGS'].county.str.strip()\n",
    "df['EARNINGS']['state'] = df['EARNINGS'].state.str.strip()"
   ]
  },
  {
   "cell_type": "markdown",
   "metadata": {},
   "source": [
    "## Limit the years to analysis"
   ]
  },
  {
   "cell_type": "code",
   "execution_count": 9,
   "metadata": {},
   "outputs": [],
   "source": [
    "cond_year_min = df['CHEMICALS'].year >= 2010\n",
    "cond_year_max = df['CHEMICALS'].year <= 2016\n",
    "\n",
    "df['CHEMICALS'] = df['CHEMICALS'][cond_year_min & cond_year_max]\n",
    "\n",
    "df['CHEMICALS'] = df['CHEMICALS'].groupby(['state', 'county', 'chemical_species', 'contaminant_level',\n",
    "                                   'unit_measurement', 'year'])[['value']].sum().reset_index()"
   ]
  },
  {
   "cell_type": "markdown",
   "metadata": {},
   "source": [
    "## Standardize the series to works with the same units"
   ]
  },
  {
   "cell_type": "code",
   "execution_count": 10,
   "metadata": {},
   "outputs": [],
   "source": [
    "for col in ['state', 'county']:\n",
    "    df['CHEMICALS'][col] = df['CHEMICALS'][col].str.upper()\n",
    "    \n",
    "df['CHEMICALS'].value = df['CHEMICALS'].apply(lambda x: x.value/1000 if x.unit_measurement == 'micrograms/L' else x.value, axis=1)\n",
    "df['CHEMICALS'].unit_measurement = 'mg/L'\n",
    "\n",
    "df['CHEMICALS'] = df['CHEMICALS'].groupby(['state', 'county', 'chemical_species',\n",
    "       'unit_measurement', 'year'])[['value']].sum().reset_index()"
   ]
  },
  {
   "cell_type": "markdown",
   "metadata": {},
   "source": [
    "## Transform columns in rows and keep the series  'state', 'county', 'year'"
   ]
  },
  {
   "cell_type": "code",
   "execution_count": 11,
   "metadata": {},
   "outputs": [],
   "source": [
    "df_modify = {}\n",
    "lista_col = ['state', 'county', 'chemical_species', 'year', 'value']\n",
    "\n",
    "for agente in df['CHEMICALS'].chemical_species.unique():\n",
    "    df_modify[agente] = df['CHEMICALS'][\n",
    "        df['CHEMICALS'].chemical_species == agente][lista_col]\n",
    "    df_modify[agente].rename(columns={'value': f'{agente}_value'}, inplace=True)\n",
    "    df_modify[agente].drop(columns=['chemical_species'], inplace=True)\n",
    "    df_modify[agente].set_index(['state', 'county', 'year'], inplace=True)"
   ]
  },
  {
   "cell_type": "markdown",
   "metadata": {},
   "source": [
    "## Join 'state', 'county', 'year' for every chemical agents"
   ]
  },
  {
   "cell_type": "code",
   "execution_count": 12,
   "metadata": {},
   "outputs": [],
   "source": [
    "df['CHEMICALS'] = pd.concat([df_ for df_ in df_modify.values()], axis=1).reset_index()"
   ]
  },
  {
   "cell_type": "code",
   "execution_count": 13,
   "metadata": {},
   "outputs": [
    {
     "data": {
      "text/plain": [
       "(9877, 9)"
      ]
     },
     "execution_count": 13,
     "metadata": {},
     "output_type": "execute_result"
    }
   ],
   "source": [
    "df['CHEMICALS'].shape"
   ]
  },
  {
   "cell_type": "markdown",
   "metadata": {},
   "source": [
    "## Cleanning earnings data to use later"
   ]
  },
  {
   "cell_type": "code",
   "execution_count": 14,
   "metadata": {},
   "outputs": [],
   "source": [
    "df['EARNINGS'].drop(columns=['total_med','total_prof_sci_mgmt_admin',\n",
    "       'total_edu_health_social', 'total_arts_ent_acc_food', 'total_agri_fish_mine',\n",
    "       'fin_ins_realest', 'fin_ins', 'prof_sci_tech', 'admin_sup', \n",
    "                            ], inplace=True)"
   ]
  },
  {
   "cell_type": "code",
   "execution_count": 15,
   "metadata": {},
   "outputs": [],
   "source": [
    "df['EARNINGS'] = df['EARNINGS'].groupby(['state', 'year'], as_index=False).sum()"
   ]
  },
  {
   "cell_type": "code",
   "execution_count": 16,
   "metadata": {},
   "outputs": [],
   "source": [
    "df['CHEMICALS'] = df['CHEMICALS'].groupby(['state', 'year'], as_index=False).sum()"
   ]
  },
  {
   "cell_type": "markdown",
   "metadata": {},
   "source": [
    "## Generate the principal dataframe, we called df_core"
   ]
  },
  {
   "cell_type": "code",
   "execution_count": 17,
   "metadata": {},
   "outputs": [],
   "source": [
    "df_core = pd.merge(df['CHEMICALS'], df['EARNINGS'],\n",
    "          how='inner', on=['state', 'year'])"
   ]
  },
  {
   "cell_type": "markdown",
   "metadata": {},
   "source": [
    "## TEST FUNCTION"
   ]
  },
  {
   "cell_type": "code",
   "execution_count": 18,
   "metadata": {},
   "outputs": [
    {
     "data": {
      "text/html": [
       "<div>\n",
       "<style scoped>\n",
       "    .dataframe tbody tr th:only-of-type {\n",
       "        vertical-align: middle;\n",
       "    }\n",
       "\n",
       "    .dataframe tbody tr th {\n",
       "        vertical-align: top;\n",
       "    }\n",
       "\n",
       "    .dataframe thead th {\n",
       "        text-align: right;\n",
       "    }\n",
       "</style>\n",
       "<table border=\"1\" class=\"dataframe\">\n",
       "  <thead>\n",
       "    <tr style=\"text-align: right;\">\n",
       "      <th></th>\n",
       "      <th>state</th>\n",
       "      <th>year</th>\n",
       "      <th>Arsenic_value</th>\n",
       "      <th>DEHP_value</th>\n",
       "      <th>Nitrates_value</th>\n",
       "      <th>Uranium_value</th>\n",
       "      <th>Halo-Acetic Acid_value</th>\n",
       "      <th>Trihalomethane_value</th>\n",
       "      <th>agri_fish_hunt</th>\n",
       "      <th>construction</th>\n",
       "      <th>manufacturing</th>\n",
       "      <th>wholesale_trade</th>\n",
       "      <th>retail_trade</th>\n",
       "      <th>transport_warehouse_utilities</th>\n",
       "      <th>transport_warehouse</th>\n",
       "      <th>edu_serv</th>\n",
       "      <th>health_social</th>\n",
       "      <th>acc_food_serv</th>\n",
       "      <th>other_ser</th>\n",
       "      <th>pub_admin</th>\n",
       "    </tr>\n",
       "  </thead>\n",
       "  <tbody>\n",
       "    <tr>\n",
       "      <th>0</th>\n",
       "      <td>CALIFORNIA</td>\n",
       "      <td>2010</td>\n",
       "      <td>4.99142</td>\n",
       "      <td>0.59460</td>\n",
       "      <td>4004.79</td>\n",
       "      <td>6.19038</td>\n",
       "      <td>0.00000</td>\n",
       "      <td>0.00000</td>\n",
       "      <td>1336430.0</td>\n",
       "      <td>2096147.0</td>\n",
       "      <td>2348584.0</td>\n",
       "      <td>2230525.0</td>\n",
       "      <td>1242316.0</td>\n",
       "      <td>2544365.0</td>\n",
       "      <td>2254438.0</td>\n",
       "      <td>2095951.0</td>\n",
       "      <td>1870241.0</td>\n",
       "      <td>814223.0</td>\n",
       "      <td>1198683.0</td>\n",
       "      <td>3180744.0</td>\n",
       "    </tr>\n",
       "    <tr>\n",
       "      <th>1</th>\n",
       "      <td>CALIFORNIA</td>\n",
       "      <td>2011</td>\n",
       "      <td>5.31674</td>\n",
       "      <td>0.60256</td>\n",
       "      <td>3993.74</td>\n",
       "      <td>5.93616</td>\n",
       "      <td>0.00000</td>\n",
       "      <td>0.00000</td>\n",
       "      <td>1310920.0</td>\n",
       "      <td>2020223.0</td>\n",
       "      <td>2358049.0</td>\n",
       "      <td>2066472.0</td>\n",
       "      <td>1237424.0</td>\n",
       "      <td>2530154.0</td>\n",
       "      <td>2179129.0</td>\n",
       "      <td>2046439.0</td>\n",
       "      <td>1841645.0</td>\n",
       "      <td>784664.0</td>\n",
       "      <td>1169546.0</td>\n",
       "      <td>3147641.0</td>\n",
       "    </tr>\n",
       "    <tr>\n",
       "      <th>2</th>\n",
       "      <td>CALIFORNIA</td>\n",
       "      <td>2012</td>\n",
       "      <td>5.21608</td>\n",
       "      <td>0.57244</td>\n",
       "      <td>4032.18</td>\n",
       "      <td>6.21888</td>\n",
       "      <td>0.00000</td>\n",
       "      <td>0.00000</td>\n",
       "      <td>1328323.0</td>\n",
       "      <td>1993915.0</td>\n",
       "      <td>2373978.0</td>\n",
       "      <td>2061156.0</td>\n",
       "      <td>1249100.0</td>\n",
       "      <td>2551330.0</td>\n",
       "      <td>2183961.0</td>\n",
       "      <td>2036428.0</td>\n",
       "      <td>1840602.0</td>\n",
       "      <td>790054.0</td>\n",
       "      <td>1178427.0</td>\n",
       "      <td>3170028.0</td>\n",
       "    </tr>\n",
       "    <tr>\n",
       "      <th>3</th>\n",
       "      <td>CALIFORNIA</td>\n",
       "      <td>2013</td>\n",
       "      <td>4.37632</td>\n",
       "      <td>0.23550</td>\n",
       "      <td>3180.53</td>\n",
       "      <td>4.14461</td>\n",
       "      <td>0.00000</td>\n",
       "      <td>0.00000</td>\n",
       "      <td>1352314.0</td>\n",
       "      <td>1999253.0</td>\n",
       "      <td>2413351.0</td>\n",
       "      <td>2063826.0</td>\n",
       "      <td>1222170.0</td>\n",
       "      <td>2592206.0</td>\n",
       "      <td>2213572.0</td>\n",
       "      <td>2065394.0</td>\n",
       "      <td>1880560.0</td>\n",
       "      <td>794986.0</td>\n",
       "      <td>1186634.0</td>\n",
       "      <td>3216174.0</td>\n",
       "    </tr>\n",
       "    <tr>\n",
       "      <th>4</th>\n",
       "      <td>CALIFORNIA</td>\n",
       "      <td>2014</td>\n",
       "      <td>4.50887</td>\n",
       "      <td>0.28650</td>\n",
       "      <td>3267.80</td>\n",
       "      <td>4.78010</td>\n",
       "      <td>0.00000</td>\n",
       "      <td>0.00000</td>\n",
       "      <td>1319145.0</td>\n",
       "      <td>1987001.0</td>\n",
       "      <td>2349487.0</td>\n",
       "      <td>2091815.0</td>\n",
       "      <td>1236386.0</td>\n",
       "      <td>2580643.0</td>\n",
       "      <td>2172463.0</td>\n",
       "      <td>2067637.0</td>\n",
       "      <td>1901151.0</td>\n",
       "      <td>800591.0</td>\n",
       "      <td>1180954.0</td>\n",
       "      <td>3211526.0</td>\n",
       "    </tr>\n",
       "    <tr>\n",
       "      <th>...</th>\n",
       "      <td>...</td>\n",
       "      <td>...</td>\n",
       "      <td>...</td>\n",
       "      <td>...</td>\n",
       "      <td>...</td>\n",
       "      <td>...</td>\n",
       "      <td>...</td>\n",
       "      <td>...</td>\n",
       "      <td>...</td>\n",
       "      <td>...</td>\n",
       "      <td>...</td>\n",
       "      <td>...</td>\n",
       "      <td>...</td>\n",
       "      <td>...</td>\n",
       "      <td>...</td>\n",
       "      <td>...</td>\n",
       "      <td>...</td>\n",
       "      <td>...</td>\n",
       "      <td>...</td>\n",
       "      <td>...</td>\n",
       "    </tr>\n",
       "    <tr>\n",
       "      <th>176</th>\n",
       "      <td>WISCONSIN</td>\n",
       "      <td>2012</td>\n",
       "      <td>0.49201</td>\n",
       "      <td>0.04983</td>\n",
       "      <td>1039.38</td>\n",
       "      <td>0.00010</td>\n",
       "      <td>0.94536</td>\n",
       "      <td>2.29505</td>\n",
       "      <td>1675651.0</td>\n",
       "      <td>2678880.0</td>\n",
       "      <td>2663736.0</td>\n",
       "      <td>2618021.0</td>\n",
       "      <td>1471711.0</td>\n",
       "      <td>3026691.0</td>\n",
       "      <td>2817585.0</td>\n",
       "      <td>2566054.0</td>\n",
       "      <td>1997023.0</td>\n",
       "      <td>773233.0</td>\n",
       "      <td>1581447.0</td>\n",
       "      <td>3186080.0</td>\n",
       "    </tr>\n",
       "    <tr>\n",
       "      <th>177</th>\n",
       "      <td>WISCONSIN</td>\n",
       "      <td>2013</td>\n",
       "      <td>0.11401</td>\n",
       "      <td>0.00553</td>\n",
       "      <td>1056.80</td>\n",
       "      <td>0.00000</td>\n",
       "      <td>1.69134</td>\n",
       "      <td>4.41584</td>\n",
       "      <td>1734668.0</td>\n",
       "      <td>2694546.0</td>\n",
       "      <td>2707729.0</td>\n",
       "      <td>2678338.0</td>\n",
       "      <td>1457819.0</td>\n",
       "      <td>3035666.0</td>\n",
       "      <td>2826347.0</td>\n",
       "      <td>2557560.0</td>\n",
       "      <td>2013648.0</td>\n",
       "      <td>786173.0</td>\n",
       "      <td>1604017.0</td>\n",
       "      <td>3218413.0</td>\n",
       "    </tr>\n",
       "    <tr>\n",
       "      <th>178</th>\n",
       "      <td>WISCONSIN</td>\n",
       "      <td>2014</td>\n",
       "      <td>0.53515</td>\n",
       "      <td>0.05072</td>\n",
       "      <td>942.41</td>\n",
       "      <td>0.00300</td>\n",
       "      <td>2.49718</td>\n",
       "      <td>6.03264</td>\n",
       "      <td>1793580.0</td>\n",
       "      <td>2766838.0</td>\n",
       "      <td>2772115.0</td>\n",
       "      <td>2785115.0</td>\n",
       "      <td>1481636.0</td>\n",
       "      <td>3095702.0</td>\n",
       "      <td>2847888.0</td>\n",
       "      <td>2643252.0</td>\n",
       "      <td>2077496.0</td>\n",
       "      <td>800896.0</td>\n",
       "      <td>1606849.0</td>\n",
       "      <td>3276543.0</td>\n",
       "    </tr>\n",
       "    <tr>\n",
       "      <th>179</th>\n",
       "      <td>WISCONSIN</td>\n",
       "      <td>2015</td>\n",
       "      <td>0.41888</td>\n",
       "      <td>0.02587</td>\n",
       "      <td>1086.56</td>\n",
       "      <td>0.00100</td>\n",
       "      <td>2.36384</td>\n",
       "      <td>5.16290</td>\n",
       "      <td>1827990.0</td>\n",
       "      <td>2840628.0</td>\n",
       "      <td>2786703.0</td>\n",
       "      <td>2800582.0</td>\n",
       "      <td>1490326.0</td>\n",
       "      <td>3111857.0</td>\n",
       "      <td>2864724.0</td>\n",
       "      <td>2585187.0</td>\n",
       "      <td>2097124.0</td>\n",
       "      <td>809443.0</td>\n",
       "      <td>1637000.0</td>\n",
       "      <td>3279915.0</td>\n",
       "    </tr>\n",
       "    <tr>\n",
       "      <th>180</th>\n",
       "      <td>WISCONSIN</td>\n",
       "      <td>2016</td>\n",
       "      <td>0.08477</td>\n",
       "      <td>0.01371</td>\n",
       "      <td>1081.15</td>\n",
       "      <td>0.00256</td>\n",
       "      <td>3.37457</td>\n",
       "      <td>6.91982</td>\n",
       "      <td>1866595.0</td>\n",
       "      <td>2882477.0</td>\n",
       "      <td>2805394.0</td>\n",
       "      <td>2786698.0</td>\n",
       "      <td>1504640.0</td>\n",
       "      <td>3126719.0</td>\n",
       "      <td>2872934.0</td>\n",
       "      <td>2572645.0</td>\n",
       "      <td>2132872.0</td>\n",
       "      <td>821265.0</td>\n",
       "      <td>1647638.0</td>\n",
       "      <td>3305761.0</td>\n",
       "    </tr>\n",
       "  </tbody>\n",
       "</table>\n",
       "<p>181 rows × 20 columns</p>\n",
       "</div>"
      ],
      "text/plain": [
       "          state  year  Arsenic_value  DEHP_value  Nitrates_value  \\\n",
       "0    CALIFORNIA  2010        4.99142     0.59460         4004.79   \n",
       "1    CALIFORNIA  2011        5.31674     0.60256         3993.74   \n",
       "2    CALIFORNIA  2012        5.21608     0.57244         4032.18   \n",
       "3    CALIFORNIA  2013        4.37632     0.23550         3180.53   \n",
       "4    CALIFORNIA  2014        4.50887     0.28650         3267.80   \n",
       "..          ...   ...            ...         ...             ...   \n",
       "176   WISCONSIN  2012        0.49201     0.04983         1039.38   \n",
       "177   WISCONSIN  2013        0.11401     0.00553         1056.80   \n",
       "178   WISCONSIN  2014        0.53515     0.05072          942.41   \n",
       "179   WISCONSIN  2015        0.41888     0.02587         1086.56   \n",
       "180   WISCONSIN  2016        0.08477     0.01371         1081.15   \n",
       "\n",
       "     Uranium_value  Halo-Acetic Acid_value  Trihalomethane_value  \\\n",
       "0          6.19038                 0.00000               0.00000   \n",
       "1          5.93616                 0.00000               0.00000   \n",
       "2          6.21888                 0.00000               0.00000   \n",
       "3          4.14461                 0.00000               0.00000   \n",
       "4          4.78010                 0.00000               0.00000   \n",
       "..             ...                     ...                   ...   \n",
       "176        0.00010                 0.94536               2.29505   \n",
       "177        0.00000                 1.69134               4.41584   \n",
       "178        0.00300                 2.49718               6.03264   \n",
       "179        0.00100                 2.36384               5.16290   \n",
       "180        0.00256                 3.37457               6.91982   \n",
       "\n",
       "     agri_fish_hunt  construction  manufacturing  wholesale_trade  \\\n",
       "0         1336430.0     2096147.0      2348584.0        2230525.0   \n",
       "1         1310920.0     2020223.0      2358049.0        2066472.0   \n",
       "2         1328323.0     1993915.0      2373978.0        2061156.0   \n",
       "3         1352314.0     1999253.0      2413351.0        2063826.0   \n",
       "4         1319145.0     1987001.0      2349487.0        2091815.0   \n",
       "..              ...           ...            ...              ...   \n",
       "176       1675651.0     2678880.0      2663736.0        2618021.0   \n",
       "177       1734668.0     2694546.0      2707729.0        2678338.0   \n",
       "178       1793580.0     2766838.0      2772115.0        2785115.0   \n",
       "179       1827990.0     2840628.0      2786703.0        2800582.0   \n",
       "180       1866595.0     2882477.0      2805394.0        2786698.0   \n",
       "\n",
       "     retail_trade  transport_warehouse_utilities  transport_warehouse  \\\n",
       "0       1242316.0                      2544365.0            2254438.0   \n",
       "1       1237424.0                      2530154.0            2179129.0   \n",
       "2       1249100.0                      2551330.0            2183961.0   \n",
       "3       1222170.0                      2592206.0            2213572.0   \n",
       "4       1236386.0                      2580643.0            2172463.0   \n",
       "..            ...                            ...                  ...   \n",
       "176     1471711.0                      3026691.0            2817585.0   \n",
       "177     1457819.0                      3035666.0            2826347.0   \n",
       "178     1481636.0                      3095702.0            2847888.0   \n",
       "179     1490326.0                      3111857.0            2864724.0   \n",
       "180     1504640.0                      3126719.0            2872934.0   \n",
       "\n",
       "      edu_serv  health_social  acc_food_serv  other_ser  pub_admin  \n",
       "0    2095951.0      1870241.0       814223.0  1198683.0  3180744.0  \n",
       "1    2046439.0      1841645.0       784664.0  1169546.0  3147641.0  \n",
       "2    2036428.0      1840602.0       790054.0  1178427.0  3170028.0  \n",
       "3    2065394.0      1880560.0       794986.0  1186634.0  3216174.0  \n",
       "4    2067637.0      1901151.0       800591.0  1180954.0  3211526.0  \n",
       "..         ...            ...            ...        ...        ...  \n",
       "176  2566054.0      1997023.0       773233.0  1581447.0  3186080.0  \n",
       "177  2557560.0      2013648.0       786173.0  1604017.0  3218413.0  \n",
       "178  2643252.0      2077496.0       800896.0  1606849.0  3276543.0  \n",
       "179  2585187.0      2097124.0       809443.0  1637000.0  3279915.0  \n",
       "180  2572645.0      2132872.0       821265.0  1647638.0  3305761.0  \n",
       "\n",
       "[181 rows x 20 columns]"
      ]
     },
     "execution_count": 18,
     "metadata": {},
     "output_type": "execute_result"
    }
   ],
   "source": [
    "apply_data_preparation(saving=True, path_=PathOutput.output_data_core)"
   ]
  }
 ],
 "metadata": {
  "kernelspec": {
   "display_name": "Python 3",
   "language": "python",
   "name": "python3"
  },
  "language_info": {
   "codemirror_mode": {
    "name": "ipython",
    "version": 3
   },
   "file_extension": ".py",
   "mimetype": "text/x-python",
   "name": "python",
   "nbconvert_exporter": "python",
   "pygments_lexer": "ipython3",
   "version": "3.8.5"
  }
 },
 "nbformat": 4,
 "nbformat_minor": 4
}

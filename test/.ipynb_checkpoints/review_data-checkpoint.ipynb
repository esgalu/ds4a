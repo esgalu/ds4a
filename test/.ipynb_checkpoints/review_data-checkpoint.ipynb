{
 "cells": [
  {
   "cell_type": "code",
   "execution_count": 1,
   "metadata": {},
   "outputs": [
    {
     "name": "stdout",
     "output_type": "stream",
     "text": [
      "C:\\Users\\admin\\Desktop\\DS4A\\water_quality\n"
     ]
    }
   ],
   "source": [
    "cd .."
   ]
  },
  {
   "cell_type": "code",
   "execution_count": 2,
   "metadata": {},
   "outputs": [],
   "source": [
    "import matplotlib.pyplot as plt\n",
    "import numpy as np\n",
    "import pandas as pd\n",
    "import seaborn as sns\n",
    "import matplotlib as mpl\n",
    "import os\n",
    "import dataframe_image as dfi"
   ]
  },
  {
   "cell_type": "code",
   "execution_count": 3,
   "metadata": {},
   "outputs": [],
   "source": [
    "from tools.funcion_enlistar_nombres_carpeta import aplicar_enlistar_nombres_archivos\n",
    "from tools.funcion_leer_archivos import leer_archivos"
   ]
  },
  {
   "cell_type": "code",
   "execution_count": 4,
   "metadata": {},
   "outputs": [],
   "source": [
    "pd.options.display.max_columns = None"
   ]
  },
  {
   "cell_type": "code",
   "execution_count": 7,
   "metadata": {},
   "outputs": [],
   "source": [
    "path_datasets = 'data_depurada'"
   ]
  },
  {
   "cell_type": "code",
   "execution_count": 8,
   "metadata": {},
   "outputs": [],
   "source": [
    "lista_archivos = aplicar_enlistar_nombres_archivos(path_datasets)\n",
    "lista_archivos = [(value[:-4]).upper() for value in lista_archivos]"
   ]
  },
  {
   "cell_type": "code",
   "execution_count": 9,
   "metadata": {},
   "outputs": [],
   "source": [
    "df = {}\n",
    "\n",
    "for archivo in lista_archivos:\n",
    "    path_tmp = os.path.join(path_datasets, f'{archivo.lower()}.csv')\n",
    "    df[archivo] = leer_archivos(path_tmp)"
   ]
  },
  {
   "cell_type": "markdown",
   "metadata": {},
   "source": [
    "### EDA PRELIMINAR"
   ]
  },
  {
   "cell_type": "raw",
   "metadata": {},
   "source": [
    "for key in df:\n",
    "    print(f'---- DATABASE {key}-----')\n",
    "    tmp_0 = df[key].describe().T\n",
    "    tmp_1 = pd.DataFrame(df[key].isnull().any()).rename(columns={0:'Is there null value?'})\n",
    "    tmp_2 = pd.DataFrame(df[key].isnull().sum()).rename(columns={0:'NULL_VALUES'})\n",
    "    tmp_3 = pd.DataFrame(df[key].dtypes).rename(columns={0:'DTYPE'})\n",
    "    tmp = pd.concat([tmp_1, tmp_2, tmp_3, tmp_0], axis=1)\n",
    "    tmp.fillna('NA', inplace=True)\n",
    "    for col in tmp:\n",
    "        tmp.rename(columns={col:col.upper()}, inplace=True)\n",
    "    display(tmp)\n",
    "#     to_export_df_in_format_png\n",
    "#     tmp.dfi.export(f'table_resume_{key}.png', max_rows=20)\n",
    "    print('\\n')\n",
    "    print('--------------------------------------------------------------------------------------------------')"
   ]
  },
  {
   "cell_type": "markdown",
   "metadata": {},
   "source": [
    "### ANALISIS"
   ]
  },
  {
   "cell_type": "code",
   "execution_count": 10,
   "metadata": {},
   "outputs": [
    {
     "data": {
      "text/plain": [
       "dict_keys(['CHEMICALS', 'EARNINGS', 'KAGGLE_INCOME', 'NATIONALOUTBREAKPUBLICDATATOOL', 'WATER_USAGE', 'WATER_USAGE_DICTIONARY'])"
      ]
     },
     "execution_count": 10,
     "metadata": {},
     "output_type": "execute_result"
    }
   ],
   "source": [
    "df.keys()"
   ]
  },
  {
   "cell_type": "code",
   "execution_count": 13,
   "metadata": {},
   "outputs": [
    {
     "name": "stdout",
     "output_type": "stream",
     "text": [
      "------CHEMICALS------\n",
      "Index(['cws_name', 'chemical_species', 'contaminant_level', 'county', 'pws_id',\n",
      "       'pop_served', 'state', 'unit_measurement', 'value', 'year', 'fips',\n",
      "       'state_fips'],\n",
      "      dtype='object')\n",
      "\n",
      "------EARNINGS------\n",
      "Index(['Unnamed: 0', 'geo_id', 'fips', 'county', 'total_med',\n",
      "       'total_agri_fish_mine', 'agri_fish_hunt', 'construction',\n",
      "       'manufacturing', 'wholesale_trade', 'retail_trade',\n",
      "       'transport_warehouse_utilities', 'transport_warehouse',\n",
      "       'fin_ins_realest', 'fin_ins', 'total_prof_sci_mgmt_admin',\n",
      "       'prof_sci_tech', 'admin_sup', 'total_edu_health_social', 'edu_serv',\n",
      "       'health_social', 'total_arts_ent_acc_food', 'acc_food_serv',\n",
      "       'other_ser', 'pub_admin', 'year', 'estate'],\n",
      "      dtype='object')\n",
      "\n",
      "------KAGGLE_INCOME------\n",
      "Index(['State_Name', 'County', 'ALand', 'AWater', 'Mean', 'Median', 'Stdev'], dtype='object')\n",
      "\n",
      "------NATIONALOUTBREAKPUBLICDATATOOL------\n",
      "Index(['ï»¿Year', 'Month', 'State', 'Primary Mode', 'Etiology',\n",
      "       'Serotype or Genotype', 'Etiology Status', 'Setting', 'Illnesses',\n",
      "       'Hospitalizations', 'Info on Hospitalizations', 'Deaths',\n",
      "       'Info on Deaths', 'Food Vehicle', 'Food Contaminated Ingredient',\n",
      "       'IFSAC Category', 'Water Exposure', 'Water Type', 'Animal Type',\n",
      "       'Animal Type Specify', 'Water Status'],\n",
      "      dtype='object')\n",
      "\n",
      "------WATER_USAGE------\n",
      "Index(['year', 'state', 'county', 'population', 'total_withdrawal_1',\n",
      "       'total_withdrawal_2', 'total_withdrawal_3', 'pub_sup_total',\n",
      "       'dom_sup_total', 'ind_total', 'irrigation_total', 'crop_total',\n",
      "       'golf_total', 'livestock_total', 'aqua_total', 'mining_total',\n",
      "       'thermoelectric_total'],\n",
      "      dtype='object')\n",
      "\n",
      "------WATER_USAGE_DICTIONARY------\n",
      "Index(['state', 'State postal abbreviation'], dtype='object')\n",
      "\n"
     ]
    }
   ],
   "source": [
    "for file in df:\n",
    "    print(f'------{file}------')\n",
    "    print(df[file].columns)\n",
    "    print('')\n",
    "    "
   ]
  },
  {
   "cell_type": "code",
   "execution_count": 16,
   "metadata": {},
   "outputs": [
    {
     "data": {
      "text/plain": [
       "array([2010], dtype=int64)"
      ]
     },
     "execution_count": 16,
     "metadata": {},
     "output_type": "execute_result"
    }
   ],
   "source": [
    "df['WATER_USAGE'].year.unique()"
   ]
  },
  {
   "cell_type": "code",
   "execution_count": null,
   "metadata": {},
   "outputs": [],
   "source": []
  }
 ],
 "metadata": {
  "kernelspec": {
   "display_name": "Python 3",
   "language": "python",
   "name": "python3"
  },
  "language_info": {
   "codemirror_mode": {
    "name": "ipython",
    "version": 3
   },
   "file_extension": ".py",
   "mimetype": "text/x-python",
   "name": "python",
   "nbconvert_exporter": "python",
   "pygments_lexer": "ipython3",
   "version": "3.6.7"
  }
 },
 "nbformat": 4,
 "nbformat_minor": 4
}
